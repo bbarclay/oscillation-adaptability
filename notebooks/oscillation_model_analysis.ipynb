{
 "cells": [
  {
   "cell_type": "markdown",
   "metadata": {},
   "source": [
    "# Necessary Oscillations: Numerical Validation and Visualization\n",
    "\n",
    "This notebook provides numerical validation and visualization for the mathematical model described in our paper \"Necessary Oscillations: Adaptability Dynamics Under Fundamental Conservation Constraints in Structured Systems.\"\n",
    "\n",
    "We will:\n",
    "1. Verify the conservation law $C(x,d) + A(x,d) = 1$\n",
    "2. Demonstrate the exponential decay of adaptability with depth\n",
    "3. Generate adaptability landscapes for different orbital order sets\n",
    "4. Analyze temporal oscillations and their spectral characteristics\n",
    "5. Provide comprehensive validation of the mathematical proofs"
   ]
  },
  {
   "cell_type": "code",
   "execution_count": null,
   "metadata": {},
   "outputs": [],
   "source": [
    "import sys\n",
    "import os\n",
    "import numpy as np\n",
    "import matplotlib.pyplot as plt\n",
    "from scipy.fft import fft, fftfreq\n",
    "import pandas as pd\n",
    "from matplotlib.colors import LinearSegmentedColormap\n",
    "import seaborn as sns\n",
    "\n",
    "# Add the code directory to the path\n",
    "sys.path.append('../code')\n",
    "\n",
    "# Import the AdaptabilityModel class\n",
    "from oscillation_model import AdaptabilityModel\n",
    "\n",
    "# Set up plotting parameters\n",
    "plt.rcParams['figure.figsize'] = (12, 8)\n",
    "plt.rcParams['figure.dpi'] = 100\n",
    "plt.rcParams['font.size'] = 12\n",
    "plt.style.use('seaborn-v0_8-whitegrid')\n",
    "\n",
    "# Create figure directory if it doesn't exist\n",
    "os.makedirs('../figures', exist_ok=True)"
   ]
  }
 ],
 "metadata": {
  "language_info": {
   "name": "python"
  }
 },
 "nbformat": 4,
 "nbformat_minor": 5
}
